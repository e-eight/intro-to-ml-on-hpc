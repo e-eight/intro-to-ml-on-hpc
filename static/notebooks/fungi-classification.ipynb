{
 "cells": [
  {
   "cell_type": "markdown",
   "id": "4280be6c",
   "metadata": {},
   "source": [
    "# Fungi top 4 data"
   ]
  },
  {
   "cell_type": "code",
   "execution_count": null,
   "id": "1e5f2bbf",
   "metadata": {},
   "outputs": [],
   "source": [
    "from pathlib import Path"
   ]
  },
  {
   "cell_type": "code",
   "execution_count": null,
   "id": "1924af06",
   "metadata": {},
   "outputs": [],
   "source": [
    "p = Path(\"/xdisk/sohampal/sohampal/fungi/DF20M-4/\") # replace this with the path to where you dowloaded the data\n",
    "list(p.iterdir())"
   ]
  },
  {
   "cell_type": "code",
   "execution_count": null,
   "id": "b5dcbe06",
   "metadata": {},
   "outputs": [],
   "source": [
    "from itertools import islice\n",
    "\n",
    "def _ls(p, n=None): return list(islice(p.iterdir(), n)) # more convenient to use this to list directory contents"
   ]
  },
  {
   "cell_type": "code",
   "execution_count": null,
   "id": "2f83171e",
   "metadata": {},
   "outputs": [],
   "source": [
    "_ls(p / \"train\")"
   ]
  },
  {
   "cell_type": "code",
   "execution_count": null,
   "id": "be30b101",
   "metadata": {},
   "outputs": [],
   "source": [
    "_ls(p / \"test\")"
   ]
  },
  {
   "cell_type": "code",
   "execution_count": null,
   "id": "8071032a",
   "metadata": {},
   "outputs": [],
   "source": [
    "_ls(p / \"test\" / \"Mycena galericulata\", 4)"
   ]
  },
  {
   "cell_type": "code",
   "execution_count": null,
   "id": "046a6419",
   "metadata": {},
   "outputs": [],
   "source": [
    "{d.name: len(_ls(d)) for d in _ls(p / \"train\")} # number of images for each fungi species"
   ]
  },
  {
   "cell_type": "code",
   "execution_count": null,
   "id": "fea039bd",
   "metadata": {},
   "outputs": [],
   "source": [
    "from PIL import Image\n",
    "import matplotlib.pyplot as plt\n",
    "%matplotlib inline\n",
    "\n",
    "def show_images(p, ncols=8):\n",
    "    fig, axes = plt.subplots(1, ncols, figsize=(20, 2))\n",
    "    imgs = p.iterdir()\n",
    "    for i, ax in enumerate(axes):\n",
    "        img = next(imgs)\n",
    "        ax.imshow(Image.open(img))\n",
    "        ax.axes.get_xaxis().set_ticks([])\n",
    "        ax.axes.get_yaxis().set_ticks([])\n",
    "    fig.suptitle(p.name)\n",
    "\n",
    "for d in _ls((p / \"train\")): show_images(d)"
   ]
  },
  {
   "cell_type": "markdown",
   "id": "b105aa92",
   "metadata": {},
   "source": [
    "# Create data for binary classification"
   ]
  },
  {
   "cell_type": "markdown",
   "id": "20630c07",
   "metadata": {},
   "source": [
    "Copy the data to a subdirectory called `binary` under `DF2OM-4`. This is not strictly necessary, if you plan to write your own dataloaders. But it will be easier to use the fastai dataloaders in this way."
   ]
  },
  {
   "cell_type": "code",
   "execution_count": null,
   "id": "6f136c5d",
   "metadata": {},
   "outputs": [],
   "source": [
    "import shutil\n",
    "\n",
    "def copy_images(partition):\n",
    "    for fungi in (\"Boletus edulis\", \"Amanita muscaria\"):\n",
    "        (p / \"binary\" / partition / fungi).mkdir(parents=True, exist_ok=True)\n",
    "        for img in (p / partition / fungi).iterdir():\n",
    "            shutil.copy2(img, p / \"binary\" / partition / fungi)\n",
    "\n",
    "copy_images(\"train\")\n",
    "copy_images(\"test\")"
   ]
  },
  {
   "cell_type": "code",
   "execution_count": null,
   "id": "30b1bef0",
   "metadata": {},
   "outputs": [],
   "source": [
    "{d.name: len(_ls(d)) for d in _ls(p / \"binary\" / \"train\")}"
   ]
  },
  {
   "cell_type": "code",
   "execution_count": null,
   "id": "521beda1",
   "metadata": {},
   "outputs": [],
   "source": [
    "{d.name: len(_ls(d)) for d in _ls(p / \"binary\" / \"test\")}"
   ]
  },
  {
   "cell_type": "markdown",
   "id": "1e0ccc5a",
   "metadata": {},
   "source": [
    "# Binary classification with fastai"
   ]
  },
  {
   "cell_type": "markdown",
   "id": "65926732",
   "metadata": {},
   "source": [
    "We will randomly split the data under the `train` subdirectory into a train set and a validation set. By default, fastai's `RandomSplitter` does a 80:20 split. After we have trained the model on the train set, we will test it with the images under the `test` subdirectory. The model has never seen these images, and thus this is a good way to test the generalization of the model. Sometimes, when we don't have a lot of data, we only split the data into a train set and a validation set."
   ]
  },
  {
   "cell_type": "code",
   "execution_count": null,
   "id": "d9292d37",
   "metadata": {},
   "outputs": [],
   "source": [
    "from fastai.data.all import *\n",
    "from fastai.vision.all import *"
   ]
  },
  {
   "cell_type": "code",
   "execution_count": null,
   "id": "2d6ce857",
   "metadata": {},
   "outputs": [],
   "source": [
    "# this is just to demonstrate what the `parent_label` function from fastai does.\n",
    "def label_func(fname): return fname.parent.name"
   ]
  },
  {
   "cell_type": "code",
   "execution_count": null,
   "id": "083ef1cf",
   "metadata": {},
   "outputs": [],
   "source": [
    "dblock = DataBlock(blocks = (ImageBlock, CategoryBlock),\n",
    "                   get_items = get_image_files,\n",
    "                   get_y = parent_label,\n",
    "                   splitter = RandomSplitter(),\n",
    "                   item_tfms = Resize(224))"
   ]
  },
  {
   "cell_type": "code",
   "execution_count": null,
   "id": "a48ab21e",
   "metadata": {},
   "outputs": [],
   "source": [
    "# Datasets are essetially collections of inputs and corresponding targets\n",
    "dsets = dblock.datasets(p / \"binary\" / \"train\")\n",
    "dsets.train[0]"
   ]
  },
  {
   "cell_type": "code",
   "execution_count": null,
   "id": "3e1b1daa",
   "metadata": {},
   "outputs": [],
   "source": [
    "dsets.vocab"
   ]
  },
  {
   "cell_type": "code",
   "execution_count": null,
   "id": "862e6e67",
   "metadata": {},
   "outputs": [],
   "source": [
    "dls = dblock.dataloaders(p / \"binary\" / \"train\") # Dataloaders load the data in batches, default batch size is 64\n",
    "dls.show_batch() # by default only 9 elements of a batch are shown"
   ]
  },
  {
   "cell_type": "markdown",
   "id": "b1edf7d4",
   "metadata": {},
   "source": [
    "We will use a pretrained Resnet-34 model. The `vision_learner` object from fastai abstracts the boiler plate code used to finetune or train a model."
   ]
  },
  {
   "cell_type": "code",
   "execution_count": null,
   "id": "fb65cc42",
   "metadata": {},
   "outputs": [],
   "source": [
    "learn = vision_learner(dls, resnet34, metrics=error_rate)"
   ]
  },
  {
   "cell_type": "code",
   "execution_count": null,
   "id": "bbc1a0f3",
   "metadata": {},
   "outputs": [],
   "source": [
    "learn.lr_find() # this recommends a range of suitable learning rates, for more info check fastai docs"
   ]
  },
  {
   "cell_type": "code",
   "execution_count": null,
   "id": "acce65a2",
   "metadata": {},
   "outputs": [],
   "source": [
    "learn.fine_tune(3, 2e-3) # fine tune the Resnet-34 model for 3 epochs"
   ]
  },
  {
   "cell_type": "code",
   "execution_count": null,
   "id": "deeaa28a",
   "metadata": {},
   "outputs": [],
   "source": [
    "learn.show_results()"
   ]
  },
  {
   "cell_type": "code",
   "execution_count": null,
   "id": "2e64f51e",
   "metadata": {},
   "outputs": [],
   "source": [
    "# the interpretation object helps to get a better sense of the trained model\n",
    "interp = ClassificationInterpretation.from_learner(learn) \n",
    "interp.plot_top_losses(9, figsize=(15, 11))"
   ]
  },
  {
   "cell_type": "code",
   "execution_count": null,
   "id": "d582693d",
   "metadata": {},
   "outputs": [],
   "source": [
    "interp.plot_confusion_matrix()"
   ]
  },
  {
   "cell_type": "code",
   "execution_count": null,
   "id": "d8ad135e",
   "metadata": {},
   "outputs": [],
   "source": [
    "list(map(learn.predict, _ls(p / \"binary\" / \"test\" / \"Amanita muscaria\", 10)))"
   ]
  },
  {
   "cell_type": "markdown",
   "id": "42e3616d",
   "metadata": {},
   "source": [
    "## Test accuracy"
   ]
  },
  {
   "cell_type": "code",
   "execution_count": null,
   "id": "f53f39a2",
   "metadata": {},
   "outputs": [],
   "source": [
    "def is_accurate(img): return parent_label(img) == learn.predict(img)[0]"
   ]
  },
  {
   "cell_type": "code",
   "execution_count": null,
   "id": "7b7240ff",
   "metadata": {},
   "outputs": [],
   "source": [
    "is_accurate(_ls(p / \"binary\" / \"test\" / \"Amanita muscaria\", 1)[0])"
   ]
  },
  {
   "cell_type": "code",
   "execution_count": null,
   "id": "6a9dd062",
   "metadata": {},
   "outputs": [],
   "source": [
    "am_acc = sum(map(is_accurate, _ls(p / \"binary\" / \"test\" / \"Amanita muscaria\"))) / len(list(_ls(p / \"binary\" / \"test\" / \"Amanita muscaria\")))\n",
    "print(f\"{am_acc:0.2%}\")"
   ]
  },
  {
   "cell_type": "code",
   "execution_count": null,
   "id": "ea65f672",
   "metadata": {},
   "outputs": [],
   "source": [
    "be_acc = sum(map(is_accurate, _ls(p / \"binary\" / \"test\" / \"Boletus edulis\"))) / len(list(_ls(p / \"binary\" / \"test\" / \"Boletus edulis\")))\n",
    "print(f\"{be_acc:0.2%}\")"
   ]
  },
  {
   "cell_type": "markdown",
   "id": "5831b953",
   "metadata": {},
   "source": [
    "# Multi-class classification with fastai"
   ]
  },
  {
   "cell_type": "markdown",
   "id": "6e72a422",
   "metadata": {},
   "source": [
    "The code for the multi-class classification can be exactly the same as for the binary classification. However, we will replace the `RandomSplitter` with the `GrandparentSplitter` from fastai just to demonstrate it. We will not split the images under `train` into a train set and a validation set. We will use all the images under `train` as the train set, and all the images under `test` as the validation set. There will be no seperate test set. \n",
    "\n",
    "This is not us recommending one split (train/validation) over another (train/validation/test), but just demonstrating how we can do either."
   ]
  },
  {
   "cell_type": "code",
   "execution_count": null,
   "id": "42904d21",
   "metadata": {},
   "outputs": [],
   "source": [
    "dblock = DataBlock(blocks = (ImageBlock, CategoryBlock),\n",
    "                   get_items = get_image_files,\n",
    "                   get_y = parent_label,\n",
    "                   splitter = GrandparentSplitter(train_name=\"train\", valid_name=\"test\"),\n",
    "                   item_tfms = Resize(224))\n",
    "\n",
    "dsets = dblock.datasets(p)\n",
    "dsets.vocab"
   ]
  },
  {
   "cell_type": "code",
   "execution_count": null,
   "id": "74b1cec6",
   "metadata": {},
   "outputs": [],
   "source": [
    "dls = dblock.dataloaders(p)\n",
    "dls.show_batch()"
   ]
  },
  {
   "cell_type": "code",
   "execution_count": null,
   "id": "0e4dfef5",
   "metadata": {},
   "outputs": [],
   "source": [
    "learn = vision_learner(dls, resnet34, metrics=error_rate)\n",
    "learn.lr_find()"
   ]
  },
  {
   "cell_type": "code",
   "execution_count": null,
   "id": "f231a2dc",
   "metadata": {},
   "outputs": [],
   "source": [
    "learn.fine_tune(5, 2e-3)"
   ]
  },
  {
   "cell_type": "code",
   "execution_count": null,
   "id": "d85d3ead",
   "metadata": {},
   "outputs": [],
   "source": [
    "learn.show_results()"
   ]
  },
  {
   "cell_type": "code",
   "execution_count": null,
   "id": "54e41292",
   "metadata": {},
   "outputs": [],
   "source": [
    "interp = ClassificationInterpretation.from_learner(learn)\n",
    "interp.plot_confusion_matrix()"
   ]
  },
  {
   "cell_type": "code",
   "execution_count": null,
   "id": "960ff2a4",
   "metadata": {},
   "outputs": [],
   "source": [
    "interp.plot_top_losses(9, figsize=(16, 11))"
   ]
  },
  {
   "cell_type": "code",
   "execution_count": null,
   "id": "55132286",
   "metadata": {},
   "outputs": [],
   "source": [
    "learn.export(\"resnet32-4.pkl\") # Save the model"
   ]
  },
  {
   "cell_type": "code",
   "execution_count": null,
   "id": "e30f5d96",
   "metadata": {},
   "outputs": [],
   "source": []
  }
 ],
 "metadata": {
  "kernelspec": {
   "display_name": "Python 3 (Fastai)",
   "language": "python",
   "name": "fastai-3.8"
  },
  "language_info": {
   "codemirror_mode": {
    "name": "ipython",
    "version": 3
   },
   "file_extension": ".py",
   "mimetype": "text/x-python",
   "name": "python",
   "nbconvert_exporter": "python",
   "pygments_lexer": "ipython3",
   "version": "3.8.12"
  }
 },
 "nbformat": 4,
 "nbformat_minor": 5
}
