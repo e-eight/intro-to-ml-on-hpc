{
 "cells": [
  {
   "cell_type": "markdown",
   "id": "768c0f1c",
   "metadata": {},
   "source": [
    "# Palmer penguins data"
   ]
  },
  {
   "cell_type": "code",
   "execution_count": null,
   "id": "aaa4be57",
   "metadata": {},
   "outputs": [],
   "source": [
    "! wget \"https://raw.githubusercontent.com/mcnakhaee/palmerpenguins/master/palmerpenguins/data/penguins.csv\""
   ]
  },
  {
   "cell_type": "code",
   "execution_count": null,
   "id": "297ccd31",
   "metadata": {},
   "outputs": [],
   "source": [
    "import pandas as pd\n",
    "import matplotlib.pyplot as plt\n",
    "from matplotlib import colormaps"
   ]
  },
  {
   "cell_type": "code",
   "execution_count": null,
   "id": "aed3425b",
   "metadata": {},
   "outputs": [],
   "source": [
    "penguins = pd.read_csv(\"penguins.csv\")"
   ]
  },
  {
   "cell_type": "code",
   "execution_count": null,
   "id": "ca6bf80f",
   "metadata": {},
   "outputs": [],
   "source": [
    "penguins.head()"
   ]
  },
  {
   "cell_type": "code",
   "execution_count": null,
   "id": "ba13dfe0",
   "metadata": {},
   "outputs": [],
   "source": [
    "penguins[\"species\"].unique() # There are three unique species"
   ]
  },
  {
   "cell_type": "markdown",
   "id": "5504bea2",
   "metadata": {},
   "source": [
    "The bill length and bill depth of members of one species are likely to be similar, and different from those of the members of another species. It is reasonable to expect that we will see three cluster, one for each species, if we plot these two features."
   ]
  },
  {
   "cell_type": "code",
   "execution_count": null,
   "id": "c7284ce6",
   "metadata": {},
   "outputs": [],
   "source": [
    "colors = penguins.groupby(\"species\").ngroup()\n",
    "fig, ax = plt.subplots()\n",
    "cax = ax.scatter(data = penguins, x = \"bill_length_mm\", y = \"bill_depth_mm\", c = colors, cmap = \"viridis\")\n",
    "ax.set_xlabel(\"bill_length_mm\")\n",
    "ax.set_ylabel(\"bill_depth_mm\")\n",
    "cbar = fig.colorbar(cax, ticks=[0, 1, 2], orientation=\"vertical\")\n",
    "cbar.ax.set_yticklabels(list(penguins[\"species\"].unique()))"
   ]
  },
  {
   "cell_type": "markdown",
   "id": "e9c92b60",
   "metadata": {},
   "source": [
    "# Mean shift clustering\n",
    "\n",
    "We will use a Gaussian kernel for mean shift clustering. The implementation is written using PyTorch so that we can run this on a GPU."
   ]
  },
  {
   "cell_type": "code",
   "execution_count": null,
   "id": "9d165cc8",
   "metadata": {},
   "outputs": [],
   "source": [
    "import torch"
   ]
  },
  {
   "cell_type": "code",
   "execution_count": null,
   "id": "bfe8027c",
   "metadata": {},
   "outputs": [],
   "source": [
    "def gaussian(x, mu, sigma):\n",
    "    \"\"\"Calculates the Gaussian function:\n",
    "\n",
    "    .. math::\n",
    "\n",
    "    g(x) = \\frac{1}{\\sigma\\sqrt{2\\pi}}\\exp\\left(-\\frac{1}{2}\\frac{(x - \\mu)^2}{\\sigma^2}\\right)\n",
    "\n",
    "    Args:\n",
    "        x (torch.Tensor): Points at which the value of the Gaussian will be calculated.\n",
    "        mu (float): Mean of the Gaussian.\n",
    "        sigma (float): Standard deviation of the Gaussian.\n",
    "    \"\"\"\n",
    "    return torch.exp(-0.5 * ((x - mu) / sigma) ** 2) / (\n",
    "        sigma * torch.sqrt(torch.tensor(2 * torch.pi))\n",
    "    )"
   ]
  },
  {
   "cell_type": "code",
   "execution_count": null,
   "id": "20ff8f4d",
   "metadata": {},
   "outputs": [],
   "source": [
    "def meanshift(data, bw, bs=None, epochs=10):\n",
    "    \"\"\"Determines the centroids of clusters using the mean shift algorithm.\n",
    "\n",
    "    Args:\n",
    "        data (torch.Tensor): Data whose centroids are to be determined.\n",
    "        bw (float): Bandwidth, or standard deviation, of the Gaussian kernel.\n",
    "        bs (int, None): Size of the batch. If `None` or larger than `len(data)`, then set\n",
    "                        to `len(data)`.\n",
    "        epochs (int): Number of training iterations. Default value is 10.\n",
    "    \"\"\"\n",
    "    X = data.clone()\n",
    "    n = len(data)\n",
    "    if bs is None or bs > n:\n",
    "        bs = n\n",
    "    for _ in range(epochs):\n",
    "        for i in range(0, n, bs):\n",
    "            dist = torch.cdist(X[i : min(i + bs, n)], X)\n",
    "            weights = gaussian(dist, 0, bw)\n",
    "            X[i : min(i + bs, n)] = (weights @ X) / weights.sum(1, keepdim=True)\n",
    "    return X"
   ]
  },
  {
   "cell_type": "code",
   "execution_count": null,
   "id": "6b0c4577",
   "metadata": {},
   "outputs": [],
   "source": [
    "data = penguins[[\"bill_length_mm\", \"bill_depth_mm\"]]\n",
    "data"
   ]
  },
  {
   "cell_type": "code",
   "execution_count": null,
   "id": "bb7f588a",
   "metadata": {},
   "outputs": [],
   "source": [
    "data = data.dropna()\n",
    "data"
   ]
  },
  {
   "cell_type": "code",
   "execution_count": null,
   "id": "8616c8d5",
   "metadata": {},
   "outputs": [],
   "source": [
    "data = torch.tensor(data.values)\n",
    "if torch.cuda.is_available(): data = data.cuda()"
   ]
  },
  {
   "cell_type": "code",
   "execution_count": null,
   "id": "3cf0e6b3",
   "metadata": {},
   "outputs": [],
   "source": [
    "type(data)"
   ]
  },
  {
   "cell_type": "code",
   "execution_count": null,
   "id": "d5651cc6",
   "metadata": {},
   "outputs": [],
   "source": [
    "centroids = meanshift(data, 1.5, 8).cpu()"
   ]
  },
  {
   "cell_type": "code",
   "execution_count": null,
   "id": "7179ea69",
   "metadata": {},
   "outputs": [],
   "source": [
    "_, ax = plt.subplots()\n",
    "penguins.plot(x = \"bill_length_mm\", y = \"bill_depth_mm\", kind=\"scatter\", ax=ax)\n",
    "ax.scatter(centroids[:, 0], centroids[:, 1], marker=\"x\", color=\"red\")"
   ]
  },
  {
   "cell_type": "markdown",
   "id": "79c5f289",
   "metadata": {},
   "source": [
    "While we see that the algorithm gives three centroids, they don't quite lie at the centers of the species-based clusters that we saw earlier. As a follow up, you can investigate the implementation of mean shift clustering that we presented above. More fundamentally you can investigate if it is correct to expect mean shift to give the centroids lieing at the centers of the clusters that we saw earlier."
   ]
  },
  {
   "cell_type": "code",
   "execution_count": null,
   "id": "6e797a5e",
   "metadata": {},
   "outputs": [],
   "source": []
  }
 ],
 "metadata": {
  "kernelspec": {
   "display_name": "Python 3 (Fastai)",
   "language": "python",
   "name": "fastai-3.8"
  },
  "language_info": {
   "codemirror_mode": {
    "name": "ipython",
    "version": 3
   },
   "file_extension": ".py",
   "mimetype": "text/x-python",
   "name": "python",
   "nbconvert_exporter": "python",
   "pygments_lexer": "ipython3",
   "version": "3.8.12"
  }
 },
 "nbformat": 4,
 "nbformat_minor": 5
}
